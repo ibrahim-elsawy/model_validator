{
  "cells": [
    {
      "attachments": {},
      "cell_type": "markdown",
      "metadata": {},
      "source": [
        "### Setup cell for Colab"
      ]
    },
    {
      "cell_type": "code",
      "execution_count": 2,
      "metadata": {
        "colab": {
          "base_uri": "https://localhost:8080/"
        },
        "id": "c7CzOYniryc2",
        "outputId": "5963fcf1-f3e5-4372-b844-9ee664668edd"
      },
      "outputs": [
        {
          "name": "stdout",
          "output_type": "stream",
          "text": [
            "Thu Dec  8 15:30:52 2022       \n",
            "+-----------------------------------------------------------------------------+\n",
            "| NVIDIA-SMI 460.32.03    Driver Version: 460.32.03    CUDA Version: 11.2     |\n",
            "|-------------------------------+----------------------+----------------------+\n",
            "| GPU  Name        Persistence-M| Bus-Id        Disp.A | Volatile Uncorr. ECC |\n",
            "| Fan  Temp  Perf  Pwr:Usage/Cap|         Memory-Usage | GPU-Util  Compute M. |\n",
            "|                               |                      |               MIG M. |\n",
            "|===============================+======================+======================|\n",
            "|   0  Tesla T4            Off  | 00000000:00:04.0 Off |                    0 |\n",
            "| N/A   67C    P0    30W /  70W |      0MiB / 15109MiB |      0%      Default |\n",
            "|                               |                      |                  N/A |\n",
            "+-------------------------------+----------------------+----------------------+\n",
            "                                                                               \n",
            "+-----------------------------------------------------------------------------+\n",
            "| Processes:                                                                  |\n",
            "|  GPU   GI   CI        PID   Type   Process name                  GPU Memory |\n",
            "|        ID   ID                                                   Usage      |\n",
            "|=============================================================================|\n",
            "|  No running processes found                                                 |\n",
            "+-----------------------------------------------------------------------------+\n"
          ]
        }
      ],
      "source": [
        "!nvidia-smi\n",
        "!pip install tensorflow-text\n",
        "import os \n",
        "from google.colab import drive\n",
        "drive.mount(\"/content/drive\")\n",
        "os.chdir(\"/content/drive/MyDrive/names_dataset/\")"
      ]
    },
    {
      "attachments": {},
      "cell_type": "markdown",
      "metadata": {},
      "source": [
        "### Run from here for Local"
      ]
    },
    {
      "cell_type": "code",
      "execution_count": 3,
      "metadata": {
        "colab": {
          "base_uri": "https://localhost:8080/"
        },
        "id": "32d-HsGrqqqC",
        "outputId": "e71af0b0-cd59-460b-b167-fd434c5e5a3e"
      },
      "outputs": [
        {
          "name": "stdout",
          "output_type": "stream",
          "text": [
            "/device:GPU:0\n"
          ]
        }
      ],
      "source": [
        "import tensorflow as tf\n",
        "print(tf.test.gpu_device_name())\n",
        "import pandas as pd\n",
        "\n",
        "df = pd.read_csv('dataset/Arabic_names.csv')"
      ]
    },
    {
      "cell_type": "code",
      "execution_count": null,
      "metadata": {},
      "outputs": [],
      "source": [
        "import random\n",
        "\n",
        "\n",
        "all_letters_sen = \"أبجد هوز حطي كلمن سعفص قرشت ثخذ ضظغ\"\n",
        "y = []\n",
        "for e in all_letters_sen:\n",
        "\tif e != ' ':\n",
        "\t\ty.append(e)\n",
        "garbage_letters = y + [\"~\", \"`\", \"!\", \"@\", \"#\", \"$\", \"%\", \"^\", \"&\", \"*\", \"(\", \")\", \"-\", \"_\", \"+\", \"=\", \"{\", \"}\", \"[\", \"]\", \"|\", \"/\", \"\\\", \\\":\", \";\", '\"', \"`\", \"<\", \">\", \",\", \".\", \"?\", \" \"]\n",
        "\n",
        "\n",
        "female_list = list(df.loc[0:551, \"Name\"])\n",
        "male_list = list(df.loc[552:1404, \"Name\"])\n",
        "\n",
        "\n",
        "def falsify_second_name(first_name):\n",
        "\tn2, n3 = random.choice(female_list), random.choice(male_list)\n",
        "\treturn first_name + ' ' + n2 + ' ' + n3\n",
        "def falsify_third_name(first_name):\n",
        "\tn2, n3 = random.choice(male_list), random.choice(female_list)\n",
        "\treturn first_name + ' ' + n2 + ' ' + n3\n",
        "def falsify_both_name(first_name):\n",
        "\tn2, n3 = random.choice(female_list), random.choice(female_list)\n",
        "\treturn first_name + ' ' + n2 + ' ' + n3\n",
        "\n",
        "def garbage_second_name(first_name):\n",
        "\tn2, n3 = random.choice(male_list), random.choice(male_list)\n",
        "\t#replace random letter in word with random letter in garabage letters\n",
        "\tn2 = n2.replace(random.choice(n2), random.choice(garbage_letters)) \n",
        "\treturn first_name + ' ' + n2 + ' ' + n3\n",
        "def garbage_third_name(first_name):\n",
        "\t\n",
        "\tn2, n3 = random.choice(male_list), random.choice(male_list)\n",
        "\t#replace random letter in word with random letter in garabage letters\n",
        "\tn3 = n3.replace(random.choice(n3), random.choice(garbage_letters)) \n",
        "\treturn first_name + ' ' + n2 + ' ' + n3\n",
        "\n",
        "def more_garbage_seq(first_name):\n",
        "\tn2, n3 = random.choice(male_list), random.choice(male_list)\n",
        "\n",
        "\tindex_letters_n2 = [i for i in range(len(n2))]\n",
        "\tindex_letters_n3 = [i for i in range(len(n3))]\n",
        "\n",
        "\tstart_index_n2 = random.choice(index_letters_n2[:-1])\n",
        "\tend_index_n2 = random.choice(index_letters_n2[start_index_n2+1:])\n",
        "\n",
        "\tstart_index_n3 = random.choice(index_letters_n3[:-1])\n",
        "\tend_index_n3 = random.choice(index_letters_n3[start_index_n3+1:])\n",
        "\n",
        "\t#replace random letter in word with random letter in garabage letters\n",
        "\tfor i in range(start_index_n2, end_index_n2+1): \n",
        "\t\tn2 = n2.replace(n2[i], random.choice(garbage_letters)) \n",
        "\tfor i in range(start_index_n3, end_index_n3+1): \n",
        "\t\tn3 = n3.replace(n3[i], random.choice(garbage_letters)) \n",
        "\treturn first_name + ' ' + n2 + ' ' + n3\n",
        "\n",
        "def more_garbage_var(first_name):\n",
        "\tn2, n3 = random.choice(male_list), random.choice(male_list)\n",
        "\n",
        "\tindex_letters_n1 = [i for i in range(len(first_name))]\n",
        "\tindex_letters_n2 = [i for i in range(len(n2))]\n",
        "\tindex_letters_n3 = [i for i in range(len(n3))]\n",
        "\n",
        "\tstart_index_n1 = random.choice(index_letters_n1[:-1])\n",
        "\tend_index_n1 = random.choice(index_letters_n1[start_index_n1+1:])\n",
        "\n",
        "\tstart_index_n2 = random.choice(index_letters_n2[:-1])\n",
        "\tend_index_n2 = random.choice(index_letters_n2[start_index_n2+1:])\n",
        "\n",
        "\tstart_index_n3 = random.choice(index_letters_n3[:-1])\n",
        "\tend_index_n3 = random.choice(index_letters_n3[start_index_n3+1:])\n",
        "\n",
        "\t#replace random letter in word with random letter in garabage letters\n",
        "\tfor i in range(start_index_n1, end_index_n1+1): \n",
        "\t\tfirst_name = first_name.replace(random.choice(first_name), random.choice(garbage_letters)) \n",
        "\tfor i in range(start_index_n2, end_index_n2+1): \n",
        "\t\tn2 = n2.replace(random.choice(n2), random.choice(garbage_letters)) \n",
        "\tfor i in range(start_index_n3, end_index_n3+1): \n",
        "\t\tn3 = n3.replace(random.choice(n3), random.choice(garbage_letters)) \n",
        "\treturn first_name + ' ' + n2 + ' ' + n3\n",
        "\n",
        "\n",
        "random_ops_dict = {\n",
        "\t0 : garbage_second_name,\n",
        "\t1 : garbage_third_name\n",
        "}\n",
        "\n",
        "more_random_ops_dict = {\n",
        "\t0: more_garbage_seq,\n",
        "\t1: more_garbage_var\n",
        "}\n",
        "\n",
        "more_random_var_dict = {\n",
        "\t0: falsify_second_name,\n",
        "\t1: falsify_third_name,\n",
        "\t2: falsify_both_name\n",
        "}"
      ]
    },
    {
      "cell_type": "code",
      "execution_count": null,
      "metadata": {},
      "outputs": [],
      "source": [
        "\n",
        "real_female_data = []\n",
        "real_male_data = []\n",
        "for i in range(1): \n",
        "\tfor f in female_list: \n",
        "\t\tsecond_name, third_name = random.choice(male_list), random.choice(male_list)\n",
        "\t\tfullname = f + ' ' + second_name + ' ' + third_name\n",
        "\t\treal_female_data.append((fullname, 1))\n",
        "\tfor m in male_list:\n",
        "\t\tsecond_name, third_name = random.choice(male_list), random.choice(male_list)\n",
        "\t\tfullname = m + ' ' + second_name + ' ' + third_name\n",
        "\t\treal_male_data.append((fullname, 1))\n",
        "\t\t\n",
        "real_data = real_male_data + real_female_data\n",
        "real_data_df = pd.DataFrame(real_data, columns =['Name', 'label'])\n",
        "real_data_df.to_csv('./dataset/real_data_3.csv', index=False)"
      ]
    },
    {
      "attachments": {},
      "cell_type": "markdown",
      "metadata": {},
      "source": [
        "### Generate Random Data method 1"
      ]
    },
    {
      "cell_type": "code",
      "execution_count": null,
      "metadata": {},
      "outputs": [],
      "source": [
        "fake_female_data = []\n",
        "fake_male_data = []\n",
        "\n",
        "for i in range(3):\n",
        "\tfor i, f in enumerate(female_list):\n",
        "\t\trand_case = random.randint(0,1)\n",
        "\t\tfullname = random_ops_dict[rand_case](f)\n",
        "\t\tfake_female_data.append((fullname, 0))\n",
        "\n",
        "\tfor i, f in enumerate(male_list):\n",
        "\t\trand_case = random.randint(0,1)\n",
        "\t\tfullname = random_ops_dict[rand_case](f)\n",
        "\t\tfake_male_data.append((fullname, 0))\n",
        "\n",
        "fake_data = fake_female_data + fake_male_data\n",
        "fake_data_df = pd.DataFrame(fake_data, columns =['Name', 'label'])\n",
        "fake_data_df.to_csv('./dataset/fake_data_1.csv', index=False)"
      ]
    },
    {
      "attachments": {},
      "cell_type": "markdown",
      "metadata": {},
      "source": [
        "### Generate Random Data method 2"
      ]
    },
    {
      "cell_type": "code",
      "execution_count": null,
      "metadata": {},
      "outputs": [],
      "source": [
        "fake_female_data2 = []\n",
        "fake_male_data2 = []\n",
        "for i in range(3):\n",
        "\tfor i, f in enumerate(female_list):\n",
        "\t\trand_case = random.randint(0,1)\n",
        "\t\tfullname = more_random_ops_dict[rand_case](f)\n",
        "\t\tfake_female_data2.append((fullname, 0))\n",
        "\tfor i, f in enumerate(male_list):\n",
        "\t\trand_case = random.randint(0,1)\n",
        "\t\tfullname = more_random_ops_dict[rand_case](f)\n",
        "\t\tfake_male_data2.append((fullname, 0))\n",
        "\n",
        "fake_data = fake_female_data2 + fake_male_data2\n",
        "fake_data_df = pd.DataFrame(fake_data, columns =['Name', 'label'])\n",
        "fake_data_df.to_csv('./dataset/fake_data_2.csv', index=False)"
      ]
    },
    {
      "attachments": {},
      "cell_type": "markdown",
      "metadata": {},
      "source": [
        "### Generate Random Data method 3"
      ]
    },
    {
      "cell_type": "code",
      "execution_count": null,
      "metadata": {},
      "outputs": [],
      "source": [
        "fake_female_data3 = []\n",
        "fake_male_data3 = []\n",
        "\n",
        "for i in range(6):\n",
        "\tfor i, f in enumerate(female_list):\n",
        "\t\trand_case = random.randint(0, 2)\n",
        "\t\tfullname = more_random_var_dict[rand_case](f)\n",
        "\t\tfake_female_data3.append((fullname, 0))\n",
        "\tfor i, f in enumerate(male_list):\n",
        "\t\trand_case = random.randint(0,2)\n",
        "\t\tfullname = more_random_var_dict[rand_case](f)\n",
        "\t\tfake_male_data3.append((fullname, 0))\n",
        "\n",
        "fake_data = fake_female_data3 + fake_male_data3\n",
        "fake_data_df = pd.DataFrame(fake_data, columns =['Name', 'label'])\n",
        "fake_data_df.to_csv('./dataset/fake_data_4.csv', index=False)\n",
        "\n",
        "# fake_data = fake_female_data + fake_male_data + fake_female_data2 + fake_male_data2 + fake_female_data3 + fake_male_data3\n",
        "# fake_data_df = pd.DataFrame(fake_data, columns =['Name', 'label'])\n",
        "\n",
        "\n",
        "# df_fake = pd.read_csv('./dataset/fake_data.csv')\n",
        "# df_fake_2 = fake_female_data3 + fake_male_data3\n",
        "# fake_data_df = pd.DataFrame(df_fake_2, columns =['Name', 'label'])\n",
        "# df_fake_df = pd.concat([df_fake, fake_data_df])\n",
        "\n",
        "\n",
        "# fake_data_df.to_csv('./dataset/fake_data.csv', index=False)\n",
        "\n",
        "# df_fake_df.to_csv('./dataset/fake_data.csv', index=False)"
      ]
    },
    {
      "attachments": {},
      "cell_type": "markdown",
      "metadata": {},
      "source": [
        "### Saving Dataset"
      ]
    },
    {
      "cell_type": "code",
      "execution_count": null,
      "metadata": {},
      "outputs": [],
      "source": [
        "fake_data = fake_female_data + fake_male_data\n",
        "real_data = real_male_data + real_female_data\n",
        "fake_data_df = pd.DataFrame(fake_data, columns =['Name', 'label'])\n",
        "real_data_df = pd.DataFrame(real_data, columns =['Name', 'label'])"
      ]
    },
    {
      "cell_type": "code",
      "execution_count": null,
      "metadata": {
        "colab": {
          "base_uri": "https://localhost:8080/",
          "height": 185
        },
        "id": "mQeYktJdqqqI",
        "outputId": "5f950b68-2e8a-443c-8b17-97bdde4fade9"
      },
      "outputs": [
        {
          "ename": "NameError",
          "evalue": "ignored",
          "output_type": "error",
          "traceback": [
            "\u001b[0;31m---------------------------------------------------------------------------\u001b[0m",
            "\u001b[0;31mNameError\u001b[0m                                 Traceback (most recent call last)",
            "\u001b[0;32m<ipython-input-13-a36126280382>\u001b[0m in \u001b[0;36m<module>\u001b[0;34m\u001b[0m\n\u001b[0;32m----> 1\u001b[0;31m \u001b[0mfake_data_df\u001b[0m\u001b[0;34m.\u001b[0m\u001b[0mto_csv\u001b[0m\u001b[0;34m(\u001b[0m\u001b[0;34m'./dataset/fake_data.csv'\u001b[0m\u001b[0;34m)\u001b[0m\u001b[0;34m\u001b[0m\u001b[0;34m\u001b[0m\u001b[0m\n\u001b[0m\u001b[1;32m      2\u001b[0m \u001b[0mreal_data_df\u001b[0m\u001b[0;34m.\u001b[0m\u001b[0mto_csv\u001b[0m\u001b[0;34m(\u001b[0m\u001b[0;34m'./dataset/real_data.csv'\u001b[0m\u001b[0;34m)\u001b[0m\u001b[0;34m\u001b[0m\u001b[0;34m\u001b[0m\u001b[0m\n",
            "\u001b[0;31mNameError\u001b[0m: name 'fake_data_df' is not defined"
          ]
        }
      ],
      "source": [
        "fake_data_df.to_csv('./dataset/fake_data.csv')\n",
        "real_data_df.to_csv('./dataset/real_data.csv')"
      ]
    },
    {
      "attachments": {},
      "cell_type": "markdown",
      "metadata": {},
      "source": [
        "## Training Phase"
      ]
    },
    {
      "cell_type": "code",
      "execution_count": 32,
      "metadata": {
        "id": "loOx0nujqqqI"
      },
      "outputs": [],
      "source": [
        "import pandas as pd\n",
        "\n",
        "# df_fake = pd.read_csv('./dataset/fake_data.csv')\n",
        "# df_real = pd.read_csv('./dataset/real_data.csv')\n",
        "\n",
        "# df_fake = pd.read_csv('./dataset/fake_data_1.csv')\n",
        "# df_real = pd.read_csv('./dataset/real_data_1.csv')\n",
        "\n",
        "# df_fake = pd.read_csv('./dataset/fake_data_2.csv')\n",
        "# df_real = pd.read_csv('./dataset/real_data_2.csv')\n",
        "\n",
        "# df_fake = pd.read_csv('./dataset/fake_data_3.csv')\n",
        "# df_real = pd.read_csv('./dataset/real_data_3.csv')\n",
        "\n",
        "df_fake = pd.read_csv('./dataset/fake_data_4.csv')\n",
        "df_real = pd.read_csv('./dataset/real_data_3.csv')\n",
        "\n",
        "\n",
        "# df_fake_cleaned = df_fake.drop(['Unnamed: 0'], axis=1)\n",
        "# df_real_cleaned = df_real.drop(['Unnamed: 0'], axis=1)\n",
        "\n",
        "# df = pd.concat([df_real_cleaned, df_fake_cleaned])\n",
        "\n",
        "df = pd.concat([df_real, df_fake])\n"
      ]
    },
    {
      "cell_type": "code",
      "execution_count": 33,
      "metadata": {
        "id": "EHpeg0oYqqqI"
      },
      "outputs": [],
      "source": [
        "from sklearn.model_selection import train_test_split\n",
        "import tensorflow as tf\n",
        "\n",
        "num_classes = 2\n",
        "y = tf.keras.utils.to_categorical(df[\"label\"].values, num_classes=num_classes)\n",
        "\n",
        "x_train, x_test, y_train, y_test = train_test_split(df['Name'], y, test_size=0.25)\n",
        "# x_train, x_test, y_train, y_test = train_test_split(df['Name'], df['label'], test_size=0.25)"
      ]
    },
    {
      "cell_type": "code",
      "execution_count": 7,
      "metadata": {
        "colab": {
          "base_uri": "https://localhost:8080/"
        },
        "id": "Zby-tME9qqqJ",
        "outputId": "7fb364bd-cd35-45e7-a8e9-a508cdf14c71"
      },
      "outputs": [
        {
          "name": "stderr",
          "output_type": "stream",
          "text": [
            "WARNING:tensorflow:Please fix your imports. Module tensorflow.python.training.tracking.data_structures has been moved to tensorflow.python.trackable.data_structures. The old module will be deleted in version 2.11.\n"
          ]
        }
      ],
      "source": [
        "import tensorflow_hub as hub\n",
        "import tensorflow_text as text\n",
        "\n",
        "preprocessor = hub.KerasLayer( \"https://tfhub.dev/google/universal-sentence-encoder-cmlm/multilingual-preprocess/2\")\n",
        "encoder = hub.KerasLayer( \"https://tfhub.dev/google/universal-sentence-encoder-cmlm/multilingual-base/1\")\n",
        "\n",
        "\n"
      ]
    },
    {
      "cell_type": "code",
      "execution_count": 8,
      "metadata": {
        "id": "yyuCILy4qqqJ"
      },
      "outputs": [],
      "source": [
        "from keras import backend as K\n",
        "\n",
        "\n",
        "def balanced_recall(y_true, y_pred):\n",
        "    \"\"\"This function calculates the balanced recall metric\n",
        "    recall = TP / (TP + FN)\n",
        "    \"\"\"\n",
        "    recall_by_class = 0\n",
        "    # iterate over each predicted class to get class-specific metric\n",
        "    for i in range(y_pred.shape[1]):\n",
        "        y_pred_class = y_pred[:, i]\n",
        "        y_true_class = y_true[:, i]\n",
        "        true_positives = K.sum(\n",
        "            K.round(K.clip(y_true_class * y_pred_class, 0, 1)))\n",
        "        possible_positives = K.sum(K.round(K.clip(y_true_class, 0, 1)))\n",
        "        recall = true_positives / (possible_positives + K.epsilon())\n",
        "        recall_by_class = recall_by_class + recall\n",
        "    return recall_by_class / y_pred.shape[1]\n",
        "\n",
        "\n",
        "def balanced_precision(y_true, y_pred):\n",
        "    \"\"\"This function calculates the balanced precision metric\n",
        "    precision = TP / (TP + FP)\n",
        "    \"\"\"\n",
        "    precision_by_class = 0\n",
        "    # iterate over each predicted class to get class-specific metric\n",
        "    for i in range(y_pred.shape[1]):\n",
        "        y_pred_class = y_pred[:, i]\n",
        "        y_true_class = y_true[:, i]\n",
        "        true_positives = K.sum(\n",
        "            K.round(K.clip(y_true_class * y_pred_class, 0, 1)))\n",
        "        predicted_positives = K.sum(K.round(K.clip(y_pred_class, 0, 1)))\n",
        "        precision = true_positives / (predicted_positives + K.epsilon())\n",
        "        precision_by_class = precision_by_class + precision\n",
        "    # return average balanced metric for each class\n",
        "    return precision_by_class / y_pred.shape[1]\n",
        "\n",
        "\n",
        "def balanced_f1_score(y_true, y_pred):\n",
        "    \"\"\"This function calculates the F1 score metric\"\"\"\n",
        "    precision = balanced_precision(y_true, y_pred)\n",
        "    recall = balanced_recall(y_true, y_pred)\n",
        "    return 2 * ((precision * recall) / (precision + recall + K.epsilon()))\n"
      ]
    },
    {
      "cell_type": "code",
      "execution_count": 9,
      "metadata": {
        "colab": {
          "base_uri": "https://localhost:8080/"
        },
        "id": "Tdb6jIXWqqqK",
        "outputId": "49a66462-a099-4c08-b4b8-823da4dae040"
      },
      "outputs": [
        {
          "name": "stderr",
          "output_type": "stream",
          "text": [
            "WARNING:tensorflow:From /usr/local/lib/python3.8/dist-packages/tensorflow/python/autograph/pyct/static_analysis/liveness.py:83: Analyzer.lamba_check (from tensorflow.python.autograph.pyct.static_analysis.liveness) is deprecated and will be removed after 2023-09-23.\n",
            "Instructions for updating:\n",
            "Lambda fuctions will be no more assumed to be used in the statement where they are used, or at least in the same block. https://github.com/tensorflow/tensorflow/issues/56089\n"
          ]
        }
      ],
      "source": [
        "i = tf.keras.layers.Input(shape=(), dtype=tf.string, name='text')\n",
        "x = preprocessor(i)\n",
        "x = encoder(x)\n",
        "x = tf.keras.layers.Dropout(0.2, name=\"dropout\")(x['pooled_output'])\n",
        "# x = tf.keras.layers.Dense(128, activation='relu')(x)\n",
        "# x = tf.keras.layers.Dense(32, activation='relu')(x)\n",
        "x = tf.keras.layers.Dense(num_classes, activation='softmax', name=\"output\")(x)\n",
        "\n",
        "model = tf.keras.Model(i, x)"
      ]
    },
    {
      "cell_type": "code",
      "execution_count": 10,
      "metadata": {
        "id": "m3HRcGh9qqqK"
      },
      "outputs": [],
      "source": [
        "from tensorflow import keras\n",
        "n_epochs = 40\n",
        "\n",
        "METRICS = [\n",
        "      tf.keras.metrics.CategoricalAccuracy(name=\"accuracy\"),\n",
        "      balanced_recall,\n",
        "      balanced_precision,\n",
        "      balanced_f1_score\n",
        "]\n",
        "\n",
        "earlystop_callback = tf.keras.callbacks.EarlyStopping(monitor = \"val_loss\", \n",
        "                                                      patience = 3,\n",
        "                                                      restore_best_weights = True)\n",
        "\n",
        "# opt = keras.optimizers.Adagrad()\n",
        "# opt = keras.optimizers.SGD()\n",
        "#categorical_crossentropy\n",
        "# loss=tf.keras.losses.BinaryCrossentropy(from_logits=True)\n",
        "opt = keras.optimizers.Adam()\n",
        "model.compile(optimizer = opt,\n",
        "              loss = \"categorical_crossentropy\",\n",
        "              metrics = METRICS)\n",
        "\n",
        "# model_fit = model.fit(x_train, \n",
        "#                       y_train, \n",
        "#                       epochs = n_epochs,\n",
        "#                       validation_data = (x_test, y_test),\n",
        "#                       callbacks = [earlystop_callback])"
      ]
    },
    {
      "cell_type": "code",
      "execution_count": 34,
      "metadata": {
        "colab": {
          "base_uri": "https://localhost:8080/"
        },
        "id": "iEQMG-SESjwx",
        "outputId": "0a4e0506-abc4-48cd-d2ad-1442825b8466"
      },
      "outputs": [
        {
          "name": "stdout",
          "output_type": "stream",
          "text": [
            "Epoch 1/40\n",
            "231/231 [==============================] - 121s 525ms/step - loss: 0.3348 - accuracy: 0.8639 - balanced_recall: 0.5999 - balanced_precision: 0.6782 - balanced_f1_score: 0.6298 - val_loss: 0.3149 - val_accuracy: 0.8691 - val_balanced_recall: 0.6373 - val_balanced_precision: 0.6839 - val_balanced_f1_score: 0.6552\n",
            "Epoch 2/40\n",
            "231/231 [==============================] - 119s 516ms/step - loss: 0.3271 - accuracy: 0.8635 - balanced_recall: 0.6001 - balanced_precision: 0.6747 - balanced_f1_score: 0.6287 - val_loss: 0.3106 - val_accuracy: 0.8723 - val_balanced_recall: 0.6038 - val_balanced_precision: 0.7107 - val_balanced_f1_score: 0.6463\n",
            "Epoch 3/40\n",
            "231/231 [==============================] - 117s 505ms/step - loss: 0.3268 - accuracy: 0.8671 - balanced_recall: 0.6031 - balanced_precision: 0.6894 - balanced_f1_score: 0.6373 - val_loss: 0.3182 - val_accuracy: 0.8707 - val_balanced_recall: 0.5671 - val_balanced_precision: 0.6579 - val_balanced_f1_score: 0.5997\n",
            "Epoch 4/40\n",
            "231/231 [==============================] - 117s 507ms/step - loss: 0.3252 - accuracy: 0.8670 - balanced_recall: 0.6036 - balanced_precision: 0.6960 - balanced_f1_score: 0.6402 - val_loss: 0.3144 - val_accuracy: 0.8723 - val_balanced_recall: 0.6107 - val_balanced_precision: 0.7097 - val_balanced_f1_score: 0.6506\n",
            "Epoch 5/40\n",
            "231/231 [==============================] - 119s 514ms/step - loss: 0.3271 - accuracy: 0.8680 - balanced_recall: 0.6174 - balanced_precision: 0.7071 - balanced_f1_score: 0.6525 - val_loss: 0.3158 - val_accuracy: 0.8707 - val_balanced_recall: 0.6215 - val_balanced_precision: 0.6927 - val_balanced_f1_score: 0.6507\n"
          ]
        }
      ],
      "source": [
        "model_fit = model.fit(x_train, \n",
        "                      y_train, \n",
        "                      epochs = n_epochs,\n",
        "                      validation_data = (x_test, y_test),\n",
        "                      callbacks = [earlystop_callback])"
      ]
    },
    {
      "cell_type": "code",
      "execution_count": 44,
      "metadata": {
        "colab": {
          "base_uri": "https://localhost:8080/",
          "height": 303
        },
        "id": "Byq5ppr1qqqK",
        "outputId": "40be1398-fd72-4409-8f34-4d99e387b8a0"
      },
      "outputs": [
        {
          "data": {
            "image/png": "[encoded data removed]",
            "text/plain": [
              "<Figure size 2160x360 with 5 Axes>"
            ]
          },
          "metadata": {
            "needs_background": "light"
          },
          "output_type": "display_data"
        }
      ],
      "source": [
        "import numpy as np\n",
        "import matplotlib.pyplot as plt\n",
        "# x = list(range(1, n_epochs+1))\n",
        "metric_list = list(model_fit.history.keys())\n",
        "num_metrics = int(len(metric_list)/2)\n",
        "\n",
        "fig, ax = plt.subplots(nrows=1, ncols=num_metrics, figsize=(30, 5))\n",
        "\n",
        "for i in range(0, num_metrics):\n",
        "  ax[i].plot(x, model_fit.history[metric_list[i]], marker=\"o\", label=metric_list[i].replace(\"_\", \" \"))\n",
        "  ax[i].plot(x, model_fit.history[metric_list[i+num_metrics]], marker=\"o\", label=metric_list[i+num_metrics].replace(\"_\", \" \"))\n",
        "  ax[i].set_xlabel(\"epochs\",fontsize=14)\n",
        "  ax[i].set_title(metric_list[i].replace(\"_\", \" \"),fontsize=20)\n",
        "  ax[i].legend(loc=\"lower left\")"
      ]
    },
    {
      "cell_type": "code",
      "execution_count": 12,
      "metadata": {
        "id": "CUhRwdagqqqL"
      },
      "outputs": [],
      "source": [
        "def predict_class(names):\n",
        "  '''predict class of input text\n",
        "  Args:\n",
        "    - reviews (list of strings)\n",
        "  Output:\n",
        "    - class (list of int)\n",
        "  '''\n",
        "  return [np.argmax(pred) for pred in model.predict(names)]\n"
      ]
    },
    {
      "cell_type": "code",
      "execution_count": 37,
      "metadata": {
        "id": "7Ds6C1wiwjAw"
      },
      "outputs": [],
      "source": [
        "# names = [\" علميرو ميحميب شيرسيف \", \" عمرو محمد شريف \"]\n",
        "# names = [\" عللمرو محميب شريف \", \" عمرو محمد شريف \"]\n",
        "names = [\"عمرو رضوي محمد\", \"عمرو محمد شريف\"]\n",
        "# names = [\"وهب حسين بسمة\", \"وسيم نهال سامر\"]"
      ]
    },
    {
      "cell_type": "code",
      "execution_count": 39,
      "metadata": {
        "colab": {
          "base_uri": "https://localhost:8080/"
        },
        "id": "OOk3FlzLw-Dj",
        "outputId": "2161210d-10a1-47f7-9bbe-8a7ac8f10b36"
      },
      "outputs": [
        {
          "name": "stdout",
          "output_type": "stream",
          "text": [
            "1/1 [==============================] - 0s 46ms/step\n"
          ]
        },
        {
          "data": {
            "text/plain": [
              "[0, 1]"
            ]
          },
          "execution_count": 39,
          "metadata": {},
          "output_type": "execute_result"
        }
      ],
      "source": [
        "import numpy as np \n",
        "predict_class(names)"
      ]
    },
    {
      "cell_type": "code",
      "execution_count": 51,
      "metadata": {
        "colab": {
          "base_uri": "https://localhost:8080/",
          "height": 348
        },
        "id": "MpMs4dWawgkr",
        "outputId": "33e67543-df57-4d80-8955-d25838477f93"
      },
      "outputs": [
        {
          "ename": "ValueError",
          "evalue": "ignored",
          "output_type": "error",
          "traceback": [
            "\u001b[0;31m---------------------------------------------------------------------------\u001b[0m",
            "\u001b[0;31mValueError\u001b[0m                                Traceback (most recent call last)",
            "\u001b[0;32m<ipython-input-51-995c8a9343e4>\u001b[0m in \u001b[0;36m<module>\u001b[0;34m\u001b[0m\n\u001b[0;32m----> 1\u001b[0;31m \u001b[0mnew_model\u001b[0m \u001b[0;34m=\u001b[0m \u001b[0mkeras\u001b[0m\u001b[0;34m.\u001b[0m\u001b[0mmodels\u001b[0m\u001b[0;34m.\u001b[0m\u001b[0mload_model\u001b[0m\u001b[0;34m(\u001b[0m\u001b[0;34m\"my_model.h5\"\u001b[0m\u001b[0;34m)\u001b[0m\u001b[0;34m\u001b[0m\u001b[0;34m\u001b[0m\u001b[0m\n\u001b[0m",
            "\u001b[0;32m/usr/local/lib/python3.8/dist-packages/keras/utils/traceback_utils.py\u001b[0m in \u001b[0;36merror_handler\u001b[0;34m(*args, **kwargs)\u001b[0m\n\u001b[1;32m     68\u001b[0m             \u001b[0;31m# To get the full stack trace, call:\u001b[0m\u001b[0;34m\u001b[0m\u001b[0;34m\u001b[0m\u001b[0;34m\u001b[0m\u001b[0m\n\u001b[1;32m     69\u001b[0m             \u001b[0;31m# `tf.debugging.disable_traceback_filtering()`\u001b[0m\u001b[0;34m\u001b[0m\u001b[0;34m\u001b[0m\u001b[0;34m\u001b[0m\u001b[0m\n\u001b[0;32m---> 70\u001b[0;31m             \u001b[0;32mraise\u001b[0m \u001b[0me\u001b[0m\u001b[0;34m.\u001b[0m\u001b[0mwith_traceback\u001b[0m\u001b[0;34m(\u001b[0m\u001b[0mfiltered_tb\u001b[0m\u001b[0;34m)\u001b[0m \u001b[0;32mfrom\u001b[0m \u001b[0;32mNone\u001b[0m\u001b[0;34m\u001b[0m\u001b[0;34m\u001b[0m\u001b[0m\n\u001b[0m\u001b[1;32m     71\u001b[0m         \u001b[0;32mfinally\u001b[0m\u001b[0;34m:\u001b[0m\u001b[0;34m\u001b[0m\u001b[0;34m\u001b[0m\u001b[0m\n\u001b[1;32m     72\u001b[0m             \u001b[0;32mdel\u001b[0m \u001b[0mfiltered_tb\u001b[0m\u001b[0;34m\u001b[0m\u001b[0;34m\u001b[0m\u001b[0m\n",
            "\u001b[0;32m/usr/local/lib/python3.8/dist-packages/keras/saving/legacy/serialization.py\u001b[0m in \u001b[0;36mclass_and_config_for_serialized_keras_object\u001b[0;34m(config, module_objects, custom_objects, printable_module_name)\u001b[0m\n\u001b[1;32m    383\u001b[0m     )\n\u001b[1;32m    384\u001b[0m     \u001b[0;32mif\u001b[0m \u001b[0mcls\u001b[0m \u001b[0;32mis\u001b[0m \u001b[0;32mNone\u001b[0m\u001b[0;34m:\u001b[0m\u001b[0;34m\u001b[0m\u001b[0;34m\u001b[0m\u001b[0m\n\u001b[0;32m--> 385\u001b[0;31m         raise ValueError(\n\u001b[0m\u001b[1;32m    386\u001b[0m             \u001b[0;34mf\"Unknown {printable_module_name}: '{class_name}'. \"\u001b[0m\u001b[0;34m\u001b[0m\u001b[0;34m\u001b[0m\u001b[0m\n\u001b[1;32m    387\u001b[0m             \u001b[0;34m\"Please ensure you are using a `keras.utils.custom_object_scope` \"\u001b[0m\u001b[0;34m\u001b[0m\u001b[0;34m\u001b[0m\u001b[0m\n",
            "\u001b[0;31mValueError\u001b[0m: Unknown layer: 'KerasLayer'. Please ensure you are using a `keras.utils.custom_object_scope` and that this object is included in the scope. See https://www.tensorflow.org/guide/keras/save_and_serialize#registering_the_custom_object for details."
          ]
        }
      ],
      "source": [
        "new_model = keras.models.load_model(\"my_model.h5\")"
      ]
    },
    {
      "cell_type": "code",
      "execution_count": 57,
      "metadata": {
        "id": "h-eGtTJNzChf"
      },
      "outputs": [],
      "source": [
        "new_model = keras.models.load_model(\"./models/name_classifier_v2\", custom_objects={\n",
        "    'accuracy':tf.keras.metrics.CategoricalAccuracy(name=\"accuracy\"),\n",
        "    'balanced_recall': balanced_recall,\n",
        "    'balanced_precision':balanced_precision,\n",
        "    'balanced_f1_score':balanced_f1_score})"
      ]
    }
  ],
  "metadata": {
    "accelerator": "GPU",
    "colab": {
      "provenance": []
    },
    "gpuClass": "standard",
    "kernelspec": {
      "display_name": "Python 3.8.3 ('env': venv)",
      "language": "python",
      "name": "python3"
    },
    "language_info": {
      "codemirror_mode": {
        "name": "ipython",
        "version": 3
      },
      "file_extension": ".py",
      "mimetype": "text/x-python",
      "name": "python",
      "nbconvert_exporter": "python",
      "pygments_lexer": "ipython3",
      "version": "3.8.3"
    },
    "orig_nbformat": 4,
    "vscode": {
      "interpreter": {
        "hash": "a15922698bc64f84c453863b433a047184ceac26ad16989e11e663392798746d"
      }
    }
  },
  "nbformat": 4,
  "nbformat_minor": 0
}
